{
 "cells": [
  {
   "cell_type": "markdown",
   "id": "e8eb0953-bb25-4aaa-b486-5424747575a5",
   "metadata": {},
   "source": [
    "# Creación de clases"
   ]
  },
  {
   "cell_type": "code",
   "execution_count": 2,
   "id": "54629332-7a2a-4244-a86d-042b177bb5b4",
   "metadata": {},
   "outputs": [
    {
     "name": "stdout",
     "output_type": "stream",
     "text": [
      "<class '__main__.MyClass'>\n"
     ]
    }
   ],
   "source": [
    "class MyClass:\n",
    "    x=5\n",
    "\n",
    "print(MyClass)"
   ]
  },
  {
   "cell_type": "markdown",
   "id": "ef019b98-1a4e-4454-b4b2-c42e610e738b",
   "metadata": {},
   "source": [
    "# Creación de objetos"
   ]
  },
  {
   "cell_type": "code",
   "execution_count": 4,
   "id": "2a5370ed-faef-43bd-b828-4ef6d9b567fc",
   "metadata": {},
   "outputs": [
    {
     "name": "stdout",
     "output_type": "stream",
     "text": [
      "5\n"
     ]
    }
   ],
   "source": [
    "p1= MyClass()\n",
    "print(p1.x)"
   ]
  },
  {
   "cell_type": "markdown",
   "id": "e3caff2b-c2f3-4821-b129-3a5cff120b7c",
   "metadata": {},
   "source": [
    "# la Función __init__()"
   ]
  },
  {
   "cell_type": "code",
   "execution_count": 6,
   "id": "331d6b1d-67c0-4c77-9375-8bbc8b932096",
   "metadata": {},
   "outputs": [
    {
     "name": "stdout",
     "output_type": "stream",
     "text": [
      "Juan\n",
      "36\n"
     ]
    }
   ],
   "source": [
    "class Persona: \n",
    "    def __init__(self, nombre, edad):\n",
    "        self.nombre = nombre\n",
    "        self.edad =edad\n",
    "\n",
    "p1= Persona(\"Juan\", 36)\n",
    "\n",
    "print(p1.nombre)\n",
    "print(p1.edad)"
   ]
  },
  {
   "cell_type": "markdown",
   "id": "002f313b-9752-4745-bb92-0e94b768aabb",
   "metadata": {},
   "source": [
    "# La función __str__()"
   ]
  },
  {
   "cell_type": "code",
   "execution_count": 8,
   "id": "dc800b31-be3e-450e-9a80-54e85f32adfb",
   "metadata": {},
   "outputs": [
    {
     "name": "stdout",
     "output_type": "stream",
     "text": [
      "Juan(36)\n"
     ]
    }
   ],
   "source": [
    "class Persona:\n",
    "    def __init__(self, nombre, edad):\n",
    "        self.nombre = nombre\n",
    "        self.edad =edad\n",
    "\n",
    "    def __str__(self):\n",
    "        return f\"{self.nombre}({self.edad})\"\n",
    "\n",
    "p1 = Persona(\"Juan\", 36)\n",
    "print(p1)"
   ]
  },
  {
   "cell_type": "markdown",
   "id": "c7db71e7-ecef-41ce-84e6-6bd06a86bdb2",
   "metadata": {},
   "source": [
    "# Metodos"
   ]
  },
  {
   "cell_type": "code",
   "execution_count": 9,
   "id": "57948e9e-2f28-4ba8-a974-d68a2a8099f2",
   "metadata": {},
   "outputs": [
    {
     "name": "stdout",
     "output_type": "stream",
     "text": [
      "Hello my name is Juan\n"
     ]
    }
   ],
   "source": [
    "class Persona:\n",
    "    def __init__(self, nombre, edad):\n",
    "        self.nombre = nombre\n",
    "        self.edad =edad\n",
    "\n",
    "    def myfunc(self):\n",
    "        print(\"Hello my name is\", self.nombre)\n",
    "\n",
    "p1 = Persona(\"Juan\", 36)\n",
    "p1.myfunc()"
   ]
  },
  {
   "cell_type": "markdown",
   "id": "39bd680f-0196-4176-9060-fdd2568d3879",
   "metadata": {},
   "source": [
    "# Parametro self"
   ]
  },
  {
   "cell_type": "code",
   "execution_count": 10,
   "id": "59a13a8a-9842-4047-96ca-5b26ec74e6fb",
   "metadata": {},
   "outputs": [
    {
     "name": "stdout",
     "output_type": "stream",
     "text": [
      "Hello my name is Juan\n"
     ]
    }
   ],
   "source": [
    "class Persona:\n",
    "    def __init__(mysillyobject, nombre, edad):\n",
    "        mysillyobject.nombre =nombre\n",
    "        mysillyobject.edad=edad\n",
    "\n",
    "    def myfunc(abc):\n",
    "        print(\"Hello my name is\", abc.nombre)\n",
    "\n",
    "p1 = Persona(\"Juan\",36)\n",
    "p1.myfunc()"
   ]
  },
  {
   "cell_type": "markdown",
   "id": "d4747b9a-05a8-41b5-82ee-ffd723779a38",
   "metadata": {},
   "source": [
    "# Ejemplo 1.3"
   ]
  },
  {
   "cell_type": "code",
   "execution_count": 14,
   "id": "466efbf1-e883-4d95-8dd2-4a34393502b5",
   "metadata": {},
   "outputs": [
    {
     "name": "stdout",
     "output_type": "stream",
     "text": [
      "La moto Honda lleva una velocidad media de 30 km/hs\n"
     ]
    }
   ],
   "source": [
    "class Moto():\n",
    "    def __init__(self,  marca, capacidad, rendimiento, tiempo_recorrido, velocidad_media):\n",
    "        self.marca = marca\n",
    "        self.capacidad =capacidad\n",
    "        self.rendimiento =rendimiento\n",
    "        self.tiempo_recorrido = tiempo_recorrido\n",
    "        self.velocidad_media =velocidad_media\n",
    "\n",
    "    def __str__(self):\n",
    "        return f\"La moto {self.marca} lleva una velocidad media de {self.velocidad_media} km/hs\"\n",
    "\n",
    "    def distanciamientoRestante(self):\n",
    "        return (self.capacidad * self.rendimiento) - (self.tiempo_recorrido *self.velocidad_media)\n",
    "\n",
    "moto1 = Moto(\"Honda\", 20, 5, 3, 30)\n",
    "print(moto1)"
   ]
  },
  {
   "cell_type": "markdown",
   "id": "65ca2549-e241-4186-9e41-ea4c333dd6c8",
   "metadata": {},
   "source": [
    "# Ejemplo 1.5"
   ]
  },
  {
   "cell_type": "code",
   "execution_count": 27,
   "id": "b27838c0-9920-4bfa-9d9f-1fb257fcb61f",
   "metadata": {},
   "outputs": [
    {
     "name": "stdout",
     "output_type": "stream",
     "text": [
      "Marca: Toyota \n",
      "Modelo: Corolla \n",
      "Color: Rojo\n",
      "El vehiculo Toyota Corolla acelera a 50\n",
      "El vehiculo Toyota Corolla gira hacia izquierda\n",
      "El vehiculo Toyota Corolla frena a 30\n",
      "El vehiculo Toyota Corolla se esta estacionando\n"
     ]
    }
   ],
   "source": [
    "class Vehiculo:\n",
    "    def __init__(self, marca, modelo, color='negro', velocidad=0):\n",
    "        self.marca = marca\n",
    "        self.modelo=modelo\n",
    "        self.color = color\n",
    "        self.velocidad = velocidad\n",
    "\n",
    "    def __str__(self):\n",
    "        return f\"Marca: {self.marca} \\nModelo: {self.modelo} \\nColor: {self.color}\"\n",
    "\n",
    "    def acelerar(self, incremento):\n",
    "        self.velocidad += incremento\n",
    "        print(f\"El vehiculo {self.marca} {self.modelo} acelera a {self.velocidad}\")\n",
    "\n",
    "    def girar(self, direccion):\n",
    "        print(f\"El vehiculo {self.marca} {self.modelo} gira hacia {direccion}\")\n",
    "\n",
    "    def frenar(self, decremento):\n",
    "        if self.velocidad - decremento > 0:\n",
    "            self.velocidad -= decremento\n",
    "            print(f\"El vehiculo {self.marca} {self.modelo} frena a {self.velocidad}\")\n",
    "        else:\n",
    "            print(\"El vehiculo ya esta detenido\")\n",
    "            \n",
    "    def estacionar(self):\n",
    "        print(f\"El vehiculo {self.marca} {self.modelo} se esta estacionando\")\n",
    "\n",
    "vehiculo1 = Vehiculo(\"Toyota\", \"Corolla\", \"Rojo\")\n",
    "print(vehiculo1)\n",
    "vehiculo1.acelerar(50)\n",
    "vehiculo1.girar(\"izquierda\")\n",
    "vehiculo1.frenar(20)\n",
    "vehiculo1.estacionar()"
   ]
  },
  {
   "cell_type": "markdown",
   "id": "d41c09bd-d509-41aa-b667-a2e324b7fdbf",
   "metadata": {},
   "source": [
    "# Propiedad de modificar objetos"
   ]
  },
  {
   "cell_type": "code",
   "execution_count": 29,
   "id": "9399e166-2404-40b2-8d3f-decab55c0b3e",
   "metadata": {},
   "outputs": [
    {
     "name": "stdout",
     "output_type": "stream",
     "text": [
      "Marca: Toyota \n",
      "Modelo: Corolla \n",
      "Color: Azul\n"
     ]
    }
   ],
   "source": [
    "vehiculo1.color = \"Azul\"\n",
    "print(vehiculo1)"
   ]
  },
  {
   "cell_type": "markdown",
   "id": "3eaaecfa-0c54-4dae-bcf9-799ce6da8678",
   "metadata": {},
   "source": [
    "# Herencia:"
   ]
  },
  {
   "cell_type": "code",
   "execution_count": 43,
   "id": "72d6437d-38e4-48db-a2d1-f9befe977e80",
   "metadata": {},
   "outputs": [
    {
     "name": "stdout",
     "output_type": "stream",
     "text": [
      "Miguel Olsen\n",
      "Bienvenido Miguel Olsen a tu clase del año 2019\n",
      "Diana García\n",
      "Soy el profesor Diana García y enseño Matemáticas\n",
      "Carlos Pérez\n",
      "Soy el director Carlos Pérez y estoy a cargo del período 2024-2028\n"
     ]
    }
   ],
   "source": [
    "class Persona:\n",
    "    def __init__(self, nombre, apellido):\n",
    "        self.__nombre = nombre \n",
    "        self.__apellido = apellido\n",
    "\n",
    "    def printNombre(self):\n",
    "        print(self.__nombre, self.__apellido)\n",
    "\n",
    "    def get__titulo(self):\n",
    "        return self.__nombre\n",
    "\n",
    "    def get__apellido(self):\n",
    "        return self.__apellido\n",
    "\n",
    "    def set__nombre(self, nombre):\n",
    "        self.__nombre = nombre\n",
    "\n",
    "    def set__apellido(self, apellido):\n",
    "        self.__apellido = apellido\n",
    "\n",
    "\n",
    "class Estudiante(Persona):\n",
    "    def __init__(self, nombre, apellido, anio):\n",
    "        super().__init__(nombre, apellido)\n",
    "        self.__graduacion = anio\n",
    "\n",
    "    def saludo(self):\n",
    "        print(\"Bienvenido\", self.get__titulo(), self.get__apellido(), \"a tu clase del año\", self.__graduacion)\n",
    "\n",
    "class Profesor(Persona):\n",
    "    def __init__(self, nombre, apellido, materia):\n",
    "        super().__init__(nombre, apellido)\n",
    "        self.__materia = materia\n",
    "\n",
    "    def ensenar(self):\n",
    "        print(\"Soy el profesor\", self.get__titulo(), self.get__apellido(), \"y enseño\", self.__materia)\n",
    "\n",
    "\n",
    "class Director(Persona):\n",
    "    def __init__(self, nombre, apellido, periodo):\n",
    "        super().__init__(nombre, apellido)\n",
    "        self.__periodo = periodo\n",
    "\n",
    "    def informar(self):\n",
    "        print(\"Soy el director\", self.get__titulo(), self.get__apellido(), \"y estoy a cargo del período\", self.__periodo)\n",
    "\n",
    "\n",
    "\n",
    "x = Estudiante(\"Miguel\", \"Olsen\", 2019)\n",
    "x.printNombre()\n",
    "x.saludo()\n",
    "\n",
    "y = Profesor(\"Diana\", \"García\", \"Matemáticas\")\n",
    "y.printNombre()\n",
    "y.ensenar()\n",
    "\n",
    "z = Director(\"Carlos\", \"Pérez\", \"2024-2028\")\n",
    "z.printNombre()\n",
    "z.informar()"
   ]
  },
  {
   "cell_type": "code",
   "execution_count": 48,
   "id": "b34d5d7f-c9cc-43a9-a59c-81fd8a000833",
   "metadata": {},
   "outputs": [
    {
     "name": "stdout",
     "output_type": "stream",
     "text": [
      "Nombre: Miguel, Apellido: Olsen\n",
      "Nombre: Diana, Apellido: García\n",
      "Nombre: Carlos, Apellido: Pérez\n"
     ]
    }
   ],
   "source": [
    "class ListaPersonas:\n",
    "    def __init__(self, personas):\n",
    "        self.personas = personas\n",
    "\n",
    "\n",
    "lista = [\n",
    "    ListaPersonas(x),\n",
    "    ListaPersonas(y),\n",
    "    ListaPersonas(z)\n",
    "]\n",
    "\n",
    "\n",
    "for item in lista:\n",
    "    persona = item.personas\n",
    "    print(f\"Nombre: {persona.get__titulo()}, Apellido: {persona.get__apellido()}\")"
   ]
  },
  {
   "cell_type": "code",
   "execution_count": null,
   "id": "f2e536d2-5729-4545-8c0d-f95d0b07e94c",
   "metadata": {},
   "outputs": [],
   "source": []
  }
 ],
 "metadata": {
  "kernelspec": {
   "display_name": "Python 3 (ipykernel)",
   "language": "python",
   "name": "python3"
  },
  "language_info": {
   "codemirror_mode": {
    "name": "ipython",
    "version": 3
   },
   "file_extension": ".py",
   "mimetype": "text/x-python",
   "name": "python",
   "nbconvert_exporter": "python",
   "pygments_lexer": "ipython3",
   "version": "3.11.7"
  }
 },
 "nbformat": 4,
 "nbformat_minor": 5
}
