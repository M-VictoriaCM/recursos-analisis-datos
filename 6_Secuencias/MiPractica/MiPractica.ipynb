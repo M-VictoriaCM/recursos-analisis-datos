{
 "cells": [
  {
   "cell_type": "markdown",
   "id": "940d4822-b161-46c3-b832-9ccc3e4287ad",
   "metadata": {},
   "source": [
    "# Estructuras de Control\n",
    "\n",
    "* ## Condicionales:\n",
    "    * ### while() "
   ]
  },
  {
   "cell_type": "markdown",
   "id": "46467890-0c77-4cd6-9b0b-e057a2a76149",
   "metadata": {},
   "source": [
    "#### Ejercicio 1.1: \n",
    "Verificacion de usuario"
   ]
  },
  {
   "cell_type": "code",
   "execution_count": 2,
   "id": "0d225c20-98f8-4ca8-aa31-8e372e262a2a",
   "metadata": {},
   "outputs": [
    {
     "ename": "KeyboardInterrupt",
     "evalue": "Interrupted by user",
     "output_type": "error",
     "traceback": [
      "\u001b[1;31m---------------------------------------------------------------------------\u001b[0m",
      "\u001b[1;31mKeyboardInterrupt\u001b[0m                         Traceback (most recent call last)",
      "Cell \u001b[1;32mIn[2], line 2\u001b[0m\n\u001b[0;32m      1\u001b[0m contraseña\u001b[38;5;241m=\u001b[39m \u001b[38;5;124m\"\u001b[39m\u001b[38;5;124mabc123\u001b[39m\u001b[38;5;124m\"\u001b[39m\n\u001b[1;32m----> 2\u001b[0m valor_ingresado\u001b[38;5;241m=\u001b[39m \u001b[38;5;28minput\u001b[39m(\u001b[38;5;124m\"\u001b[39m\u001b[38;5;124mIngrese su contraseña\u001b[39m\u001b[38;5;124m\"\u001b[39m)\n\u001b[0;32m      4\u001b[0m \u001b[38;5;28;01mwhile\u001b[39;00m(contraseña \u001b[38;5;241m!=\u001b[39m valor_ingresado):\n\u001b[0;32m      5\u001b[0m     \u001b[38;5;28mprint\u001b[39m(\u001b[38;5;124m\"\u001b[39m\u001b[38;5;124mla contraseña ingresada\u001b[39m\u001b[38;5;124m\"\u001b[39m, valor_ingresado, \u001b[38;5;124m\"\u001b[39m\u001b[38;5;124mes incorrecta, intente de nuevo\u001b[39m\u001b[38;5;124m\"\u001b[39m)\n",
      "File \u001b[1;32m~\\anaconda3\\Lib\\site-packages\\ipykernel\\kernelbase.py:1262\u001b[0m, in \u001b[0;36mKernel.raw_input\u001b[1;34m(self, prompt)\u001b[0m\n\u001b[0;32m   1260\u001b[0m     msg \u001b[38;5;241m=\u001b[39m \u001b[38;5;124m\"\u001b[39m\u001b[38;5;124mraw_input was called, but this frontend does not support input requests.\u001b[39m\u001b[38;5;124m\"\u001b[39m\n\u001b[0;32m   1261\u001b[0m     \u001b[38;5;28;01mraise\u001b[39;00m StdinNotImplementedError(msg)\n\u001b[1;32m-> 1262\u001b[0m \u001b[38;5;28;01mreturn\u001b[39;00m \u001b[38;5;28mself\u001b[39m\u001b[38;5;241m.\u001b[39m_input_request(\n\u001b[0;32m   1263\u001b[0m     \u001b[38;5;28mstr\u001b[39m(prompt),\n\u001b[0;32m   1264\u001b[0m     \u001b[38;5;28mself\u001b[39m\u001b[38;5;241m.\u001b[39m_parent_ident[\u001b[38;5;124m\"\u001b[39m\u001b[38;5;124mshell\u001b[39m\u001b[38;5;124m\"\u001b[39m],\n\u001b[0;32m   1265\u001b[0m     \u001b[38;5;28mself\u001b[39m\u001b[38;5;241m.\u001b[39mget_parent(\u001b[38;5;124m\"\u001b[39m\u001b[38;5;124mshell\u001b[39m\u001b[38;5;124m\"\u001b[39m),\n\u001b[0;32m   1266\u001b[0m     password\u001b[38;5;241m=\u001b[39m\u001b[38;5;28;01mFalse\u001b[39;00m,\n\u001b[0;32m   1267\u001b[0m )\n",
      "File \u001b[1;32m~\\anaconda3\\Lib\\site-packages\\ipykernel\\kernelbase.py:1305\u001b[0m, in \u001b[0;36mKernel._input_request\u001b[1;34m(self, prompt, ident, parent, password)\u001b[0m\n\u001b[0;32m   1302\u001b[0m \u001b[38;5;28;01mexcept\u001b[39;00m \u001b[38;5;167;01mKeyboardInterrupt\u001b[39;00m:\n\u001b[0;32m   1303\u001b[0m     \u001b[38;5;66;03m# re-raise KeyboardInterrupt, to truncate traceback\u001b[39;00m\n\u001b[0;32m   1304\u001b[0m     msg \u001b[38;5;241m=\u001b[39m \u001b[38;5;124m\"\u001b[39m\u001b[38;5;124mInterrupted by user\u001b[39m\u001b[38;5;124m\"\u001b[39m\n\u001b[1;32m-> 1305\u001b[0m     \u001b[38;5;28;01mraise\u001b[39;00m \u001b[38;5;167;01mKeyboardInterrupt\u001b[39;00m(msg) \u001b[38;5;28;01mfrom\u001b[39;00m \u001b[38;5;28;01mNone\u001b[39;00m\n\u001b[0;32m   1306\u001b[0m \u001b[38;5;28;01mexcept\u001b[39;00m \u001b[38;5;167;01mException\u001b[39;00m:\n\u001b[0;32m   1307\u001b[0m     \u001b[38;5;28mself\u001b[39m\u001b[38;5;241m.\u001b[39mlog\u001b[38;5;241m.\u001b[39mwarning(\u001b[38;5;124m\"\u001b[39m\u001b[38;5;124mInvalid Message:\u001b[39m\u001b[38;5;124m\"\u001b[39m, exc_info\u001b[38;5;241m=\u001b[39m\u001b[38;5;28;01mTrue\u001b[39;00m)\n",
      "\u001b[1;31mKeyboardInterrupt\u001b[0m: Interrupted by user"
     ]
    }
   ],
   "source": [
    "contraseña= \"abc123\"\n",
    "valor_ingresado= input(\"Ingrese su contraseña\")\n",
    "\n",
    "while(contraseña != valor_ingresado):\n",
    "    print(\"la contraseña ingresada\", valor_ingresado, \"es incorrecta, intente de nuevo\")\n",
    "    valor_ingresado= input(\"Ingrese nuevamente la contraseña\")\n",
    "\n",
    "print(\"Bienvenido\")"
   ]
  },
  {
   "cell_type": "markdown",
   "id": "95fb9f98-871c-4691-a3aa-0c37c191a8ec",
   "metadata": {},
   "source": [
    "#### Ejercicio 1.2:\n",
    "Impresión de digitos menores a 10"
   ]
  },
  {
   "cell_type": "code",
   "execution_count": 7,
   "id": "67fa1854-a177-4473-80f8-986210dcccd0",
   "metadata": {},
   "outputs": [
    {
     "name": "stdout",
     "output_type": "stream",
     "text": [
      "1\n",
      "2\n",
      "3\n",
      "4\n",
      "5\n",
      "6\n",
      "7\n",
      "8\n",
      "9\n"
     ]
    }
   ],
   "source": [
    "contador = 1\n",
    "\n",
    "while(contador < 10):\n",
    "    print(contador)\n",
    "    contador+=1\n",
    "\n"
   ]
  },
  {
   "cell_type": "markdown",
   "id": "8dc96cb8-0000-4134-8d5d-a662511f5c16",
   "metadata": {},
   "source": [
    "#### Ejercicio 1.3\n",
    "while() con els\n"
   ]
  },
  {
   "cell_type": "code",
   "execution_count": 13,
   "id": "1b8d69ce-3c33-4198-a9fd-0e3243a787a3",
   "metadata": {},
   "outputs": [
    {
     "name": "stdin",
     "output_type": "stream",
     "text": [
      "Ingrese su nombre Pedro\n",
      "Ingrese su contraseña abc123\n"
     ]
    },
    {
     "name": "stdout",
     "output_type": "stream",
     "text": [
      "el usuario Pedro no es  correcto o la contraseña no es la correcta\n"
     ]
    },
    {
     "name": "stdin",
     "output_type": "stream",
     "text": [
      "Ingrese su nombre Juan\n",
      "Ingrese su contraseña abc123\n"
     ]
    },
    {
     "name": "stdout",
     "output_type": "stream",
     "text": [
      "Bienvenido Juan\n"
     ]
    }
   ],
   "source": [
    "nombre =\"Juan\"\n",
    "contraseña = \"abc123\"\n",
    "nombre_ingresado = input(\"Ingrese su nombre\")\n",
    "contraseña_ingresada = input(\"Ingrese su contraseña\")\n",
    "\n",
    "while(nombre != nombre_ingresado or contraseña != contraseña_ingresada):\n",
    "    print(\"el usuario\", nombre_ingresado, \"no es  correcto o la contraseña no es la correcta\")\n",
    "    nombre_ingresado = input(\"Ingrese su nombre\")\n",
    "    contraseña_ingresada = input(\"Ingrese su contraseña\")\n",
    "else:\n",
    "    print(\"Bienvenido\", nombre_ingresado)\n",
    "\n"
   ]
  },
  {
   "cell_type": "markdown",
   "id": "6458abb3-77b3-480e-842a-05bb568f5820",
   "metadata": {},
   "source": [
    "#### Ejericio 1.4\n",
    "while() con break\n"
   ]
  },
  {
   "cell_type": "code",
   "execution_count": 18,
   "id": "f91fb1f7-6707-4a41-94f7-2afbc0a69151",
   "metadata": {},
   "outputs": [
    {
     "name": "stdout",
     "output_type": "stream",
     "text": [
      "numeros 0\n",
      "numeros 1\n",
      "numeros 2\n",
      "numeros 3\n",
      "numeros 4\n",
      "El numero llego al limite: 5 termino el bucle\n"
     ]
    }
   ],
   "source": [
    "numero = 0\n",
    "limite= 5\n",
    "\n",
    "while(numero < 10): \n",
    "    print(\"numeros\", numero)\n",
    "    numero +=1\n",
    "    if(numero == limite):\n",
    "        print(\"El numero llego al limite:\", limite, \"termino el bucle\")\n",
    "        break\n",
    "\n",
    "\n",
    "\n",
    "\n"
   ]
  },
  {
   "cell_type": "markdown",
   "id": "78558d78-3c6e-4944-82d0-20742545cfdd",
   "metadata": {},
   "source": [
    "#### Ejercicio 1.5\n"
   ]
  },
  {
   "cell_type": "code",
   "execution_count": 22,
   "id": "b33b73bf-2a33-439f-95ca-45232912b2c9",
   "metadata": {},
   "outputs": [
    {
     "name": "stdout",
     "output_type": "stream",
     "text": [
      "Numero: 1\n",
      "Numero: 2\n",
      "Numero: 3\n",
      "Numero: 4\n",
      "Numero: 6\n",
      "Numero: 7\n",
      "Numero: 8\n",
      "Numero: 9\n",
      "Numero: 10\n"
     ]
    }
   ],
   "source": [
    "numero = 0\n",
    "buscado = 5\n",
    "maximo= 10\n",
    "\n",
    "while(numero < maximo):\n",
    "    numero +=1\n",
    "    if(numero == buscado): \n",
    "        continue\n",
    "    print(\"Numero:\", numero)"
   ]
  },
  {
   "cell_type": "markdown",
   "id": "0c8916e0-91e2-48a9-8014-3a8f366a2bb8",
   "metadata": {},
   "source": [
    "# Estructuras de Control\n",
    "\n",
    "* ## Condicionales:\n",
    "    * ### for() "
   ]
  },
  {
   "cell_type": "code",
   "execution_count": 26,
   "id": "d88ae035-9fc3-4e3f-a90e-326f7d10208c",
   "metadata": {},
   "outputs": [
    {
     "name": "stdout",
     "output_type": "stream",
     "text": [
      "La letra 1 es E\n",
      "La letra 2 es s\n",
      "La letra 3 es t\n",
      "La letra 4 es e\n",
      "La letra 5 es  \n",
      "La letra 6 es e\n",
      "La letra 7 es s\n",
      "La letra 8 es  \n",
      "La letra 9 es u\n",
      "La letra 10 es n\n",
      "La letra 11 es  \n",
      "La letra 12 es m\n",
      "La letra 13 es e\n",
      "La letra 14 es n\n",
      "La letra 15 es s\n",
      "La letra 16 es a\n",
      "La letra 17 es j\n",
      "La letra 18 es e\n",
      "La letra 19 es  \n",
      "La letra 20 es d\n",
      "La letra 21 es e\n",
      "La letra 22 es  \n",
      "La letra 23 es p\n",
      "La letra 24 es y\n",
      "La letra 25 es t\n",
      "La letra 26 es h\n",
      "La letra 27 es o\n",
      "La letra 28 es n\n",
      "La letra 29 es  \n",
      "La letra 30 es q\n",
      "La letra 31 es u\n",
      "La letra 32 es e\n",
      "La letra 33 es  \n",
      "La letra 34 es c\n",
      "La letra 35 es o\n",
      "La letra 36 es n\n",
      "La letra 37 es t\n",
      "La letra 38 es i\n",
      "La letra 39 es e\n",
      "La letra 40 es n\n",
      "La letra 41 es e\n",
      "La letra 42 es  \n",
      "La letra 43 es 5\n",
      "La letra 44 es 5\n",
      "La letra 45 es  \n",
      "La letra 46 es c\n",
      "La letra 47 es a\n",
      "La letra 48 es r\n",
      "La letra 49 es a\n",
      "La letra 50 es c\n",
      "La letra 51 es t\n",
      "La letra 52 es e\n",
      "La letra 53 es r\n",
      "La letra 54 es e\n",
      "La letra 55 es s\n"
     ]
    }
   ],
   "source": [
    "texto= \"Este es un mensaje de python que contiene 55 caracteres\"\n",
    "numero=1\n",
    "\n",
    "for letra in texto:\n",
    "    mensaje= \"La letra {} es {}\".format(numero, letra)\n",
    "    print(mensaje)\n",
    "    numero+=1"
   ]
  },
  {
   "cell_type": "markdown",
   "id": "c2600ec8-4ea5-4dbe-9883-84279000e0e5",
   "metadata": {},
   "source": [
    "#### Ejercicio 1.7\n",
    "Mostrar valores de 10 a 20"
   ]
  },
  {
   "cell_type": "code",
   "execution_count": 27,
   "id": "99d86799-d7c9-4085-bb1d-e1905b05b803",
   "metadata": {},
   "outputs": [
    {
     "name": "stdout",
     "output_type": "stream",
     "text": [
      "10\n",
      "11\n",
      "12\n",
      "13\n",
      "14\n",
      "15\n",
      "16\n",
      "17\n",
      "18\n",
      "19\n"
     ]
    }
   ],
   "source": [
    "for numero in range(10, 20):\n",
    "    print(numero)"
   ]
  },
  {
   "cell_type": "markdown",
   "id": "e9a796ab-e759-4eb9-8a62-aa120524dd3c",
   "metadata": {},
   "source": [
    "#### Ejercicio 1.8\n",
    "Mostras los 6 primeros números pares(Sin incluir el cero)"
   ]
  },
  {
   "cell_type": "code",
   "execution_count": 28,
   "id": "a47b0ed3-7e65-4649-aee6-58ee48bde295",
   "metadata": {},
   "outputs": [
    {
     "name": "stdout",
     "output_type": "stream",
     "text": [
      "2\n",
      "4\n",
      "6\n",
      "8\n",
      "10\n"
     ]
    }
   ],
   "source": [
    "for pares in range(2, 12, 2):\n",
    "    print(pares)\n",
    "    "
   ]
  },
  {
   "cell_type": "markdown",
   "id": "9fde013c-72ee-4a15-a699-1d9607df46cc",
   "metadata": {},
   "source": [
    "#### Ejercicio 1.9\n",
    "Recorre los negativos"
   ]
  },
  {
   "cell_type": "code",
   "execution_count": 30,
   "id": "76de89dd-8930-427f-979a-68c29238f4f8",
   "metadata": {},
   "outputs": [
    {
     "name": "stdout",
     "output_type": "stream",
     "text": [
      "0\n",
      "-1\n",
      "-2\n",
      "-3\n",
      "-4\n",
      "-5\n",
      "-6\n",
      "-7\n",
      "-8\n",
      "-9\n",
      "-10\n"
     ]
    }
   ],
   "source": [
    "for negativos in range(0, -11,-1):\n",
    "    print(negativos)\n",
    "    "
   ]
  },
  {
   "cell_type": "markdown",
   "id": "4e994fe7-27f3-4414-b73d-c27072b78c27",
   "metadata": {},
   "source": [
    "# Colecciones"
   ]
  },
  {
   "cell_type": "markdown",
   "id": "2ec15334-b738-4a9b-b373-0127bbfdf6e4",
   "metadata": {},
   "source": [
    "## Listas\n",
    "#### Ejercicio 2.0\n",
    "Ejemplo de listas:\n"
   ]
  },
  {
   "cell_type": "code",
   "execution_count": 35,
   "id": "706166d9-c100-4ed1-b209-4d3052bcbf05",
   "metadata": {},
   "outputs": [],
   "source": [
    "# Ejeplo String\n",
    "compras = [\"Cafe\", \"Pan\", \"Verduras\", \"Fideos\", \"Aceite\"]\n",
    "# Ejemplo int\n",
    "numeros=[15, 6, 8.9, -5-5]\n",
    "mixtas=[\"azul\", 1, False, \"programar\", 8.8, True]\n"
   ]
  },
  {
   "cell_type": "markdown",
   "id": "ec0743ef-80cf-4d43-95c9-928d8eb2a09f",
   "metadata": {},
   "source": [
    "#### Append()"
   ]
  },
  {
   "cell_type": "code",
   "execution_count": 36,
   "id": "2ce0a16f-0b4a-47f6-a998-3fa6b3aeeae7",
   "metadata": {},
   "outputs": [
    {
     "name": "stdout",
     "output_type": "stream",
     "text": [
      "['Cafe', 'Pan', 'Verduras', 'Fideos', 'Aceite', 'Tomates']\n"
     ]
    }
   ],
   "source": [
    "compras.append(\"Tomates\")\n",
    "print(compras)"
   ]
  },
  {
   "cell_type": "markdown",
   "id": "bc204ce1-9d8c-43ba-85ba-564f01b68a57",
   "metadata": {},
   "source": [
    "#### Extends()"
   ]
  },
  {
   "cell_type": "code",
   "execution_count": 37,
   "id": "66031727-b391-406f-affe-625a37f1e951",
   "metadata": {},
   "outputs": [
    {
     "name": "stdout",
     "output_type": "stream",
     "text": [
      "[15, 6, 8.9, -10, 12, 23, 4]\n"
     ]
    }
   ],
   "source": [
    "numeros.extend([12,23, 4])\n",
    "print(numeros)"
   ]
  },
  {
   "cell_type": "markdown",
   "id": "cf9ee5f8-5401-4035-a109-cedba4a544a2",
   "metadata": {},
   "source": [
    "#### Insert()"
   ]
  },
  {
   "cell_type": "code",
   "execution_count": 39,
   "id": "2d9f9dea-a400-4786-a2d5-c0c9afc5190f",
   "metadata": {},
   "outputs": [
    {
     "data": {
      "text/plain": [
       "['azul', 1, 'codigo', False, 'programar', 8.8, True]"
      ]
     },
     "execution_count": 39,
     "metadata": {},
     "output_type": "execute_result"
    }
   ],
   "source": [
    "mixtas.insert(2, \"codigo\")\n",
    "mixtas"
   ]
  },
  {
   "cell_type": "markdown",
   "id": "5eb0bbfc-2954-4c9c-9161-f9ac5435994a",
   "metadata": {},
   "source": [
    "#### Pop()"
   ]
  },
  {
   "cell_type": "code",
   "execution_count": 40,
   "id": "21bf2d7b-31b6-47e6-8978-d872ecfde5e2",
   "metadata": {},
   "outputs": [
    {
     "data": {
      "text/plain": [
       "['azul', 1, 'codigo', False, 'programar', 8.8]"
      ]
     },
     "execution_count": 40,
     "metadata": {},
     "output_type": "execute_result"
    }
   ],
   "source": [
    "mixtas.pop()\n",
    "mixtas"
   ]
  },
  {
   "cell_type": "markdown",
   "id": "48c9b89b-0fd5-42dc-8a1d-1b05fcb29b4c",
   "metadata": {},
   "source": [
    "#### Remove()"
   ]
  },
  {
   "cell_type": "code",
   "execution_count": 42,
   "id": "a0bf8122-192e-4758-8d9a-a2c1a3e55fe6",
   "metadata": {},
   "outputs": [
    {
     "data": {
      "text/plain": [
       "['azul', 1, 'codigo', False, 8.8]"
      ]
     },
     "execution_count": 42,
     "metadata": {},
     "output_type": "execute_result"
    }
   ],
   "source": [
    "mixtas.remove(\"programar\")\n",
    "mixtas"
   ]
  },
  {
   "cell_type": "markdown",
   "id": "bf456cb8-8016-4db7-a784-810e77f2b52d",
   "metadata": {},
   "source": [
    "#### Sort()"
   ]
  },
  {
   "cell_type": "code",
   "execution_count": 44,
   "id": "7d2c89c1-ec57-4c85-8c57-5fbd103066fb",
   "metadata": {},
   "outputs": [
    {
     "data": {
      "text/plain": [
       "['Aceite', 'Cafe', 'Fideos', 'Pan', 'Tomates', 'Verduras']"
      ]
     },
     "execution_count": 44,
     "metadata": {},
     "output_type": "execute_result"
    }
   ],
   "source": [
    "compras.sort()\n",
    "compras"
   ]
  },
  {
   "cell_type": "markdown",
   "id": "609d7a3c-52fe-4b78-bb60-12dff8b397de",
   "metadata": {},
   "source": [
    "#### Reverse()"
   ]
  },
  {
   "cell_type": "code",
   "execution_count": 45,
   "id": "2edfde6e-c1a3-4dc1-a0d6-e9e30a99c5f7",
   "metadata": {},
   "outputs": [
    {
     "data": {
      "text/plain": [
       "['Verduras', 'Tomates', 'Pan', 'Fideos', 'Cafe', 'Aceite']"
      ]
     },
     "execution_count": 45,
     "metadata": {},
     "output_type": "execute_result"
    }
   ],
   "source": [
    "compras.reverse()\n",
    "compras"
   ]
  },
  {
   "cell_type": "markdown",
   "id": "f0d271e1-9e54-4db6-8a3e-ca8e9e2f1c8d",
   "metadata": {},
   "source": [
    "#### lent()"
   ]
  },
  {
   "cell_type": "code",
   "execution_count": 3,
   "id": "332763d2-0d26-4d2f-a25a-8841aab10ee1",
   "metadata": {},
   "outputs": [
    {
     "data": {
      "text/plain": [
       "6"
      ]
     },
     "execution_count": 3,
     "metadata": {},
     "output_type": "execute_result"
    }
   ],
   "source": [
    "compras= ['Verduras', 'Tomates', 'Pan', 'Fideos', 'Cafe', 'Aceite']\n",
    "len(compras)"
   ]
  },
  {
   "cell_type": "markdown",
   "id": "ec02bb12-162e-411a-b234-9cfd27327dee",
   "metadata": {},
   "source": [
    "# Tuplas"
   ]
  },
  {
   "cell_type": "code",
   "execution_count": 4,
   "id": "8ff4b4ee-f393-4baa-a34a-93c20b80120b",
   "metadata": {},
   "outputs": [],
   "source": [
    "# Ejemplo\n",
    "\n",
    "dias =(\"lunes\", \"martes\", \"miercoles\", \"jueves\", \"viernes\", \"sabado\", \"domingo\")"
   ]
  },
  {
   "cell_type": "markdown",
   "id": "a44acd1d-1bc0-4415-b8f4-c6acfcc9d0ec",
   "metadata": {},
   "source": [
    "#### Index()"
   ]
  },
  {
   "cell_type": "code",
   "execution_count": 12,
   "id": "cf1d955b-be65-41d2-82f0-ebba98d5b5b9",
   "metadata": {},
   "outputs": [
    {
     "name": "stdout",
     "output_type": "stream",
     "text": [
      "primer indice lunes\n"
     ]
    }
   ],
   "source": [
    "dias =(\"lunes\", \"martes\", \"miercoles\", \"jueves\", \"viernes\", \"sabado\", \"domingo\")\n",
    "print(\"primer indice\", dias[0])"
   ]
  },
  {
   "cell_type": "markdown",
   "id": "d59a7629-bf0e-4e1a-8409-3cd518bc7ec8",
   "metadata": {},
   "source": [
    "#### Count()"
   ]
  },
  {
   "cell_type": "code",
   "execution_count": 14,
   "id": "0bc3afdf-ccbe-4e44-8ae5-9e2ed752087c",
   "metadata": {},
   "outputs": [
    {
     "name": "stdout",
     "output_type": "stream",
     "text": [
      "Cantidad de repetidos 2\n"
     ]
    }
   ],
   "source": [
    "dias =(\"lunes\", \"martes\", \"miercoles\", \"jueves\", \"viernes\", \"sabado\", \"domingo\", \"lunes\")\n",
    "repetidos = dias.count(\"lunes\")\n",
    "\n",
    "print(\"Cantidad de repetidos\", repetidos)\n"
   ]
  },
  {
   "cell_type": "markdown",
   "id": "38020e2b-61c5-4acc-b65e-537945b32e87",
   "metadata": {},
   "source": [
    "#### set()"
   ]
  },
  {
   "cell_type": "code",
   "execution_count": 15,
   "id": "5676b79a-6114-43b1-aab8-62cf80b16d06",
   "metadata": {},
   "outputs": [
    {
     "name": "stdout",
     "output_type": "stream",
     "text": [
      "{'manzanas', 'naranjas', 'bananas'}\n"
     ]
    }
   ],
   "source": [
    "mi_tupla = ('manzanas', 'bananas', 'naranjas', 'manzanas', 'naranjas', 'bananas', 'durazno')\n",
    "mi_conjunto = set(mi_tupla)\n",
    "print(mi_conjunto)"
   ]
  },
  {
   "cell_type": "markdown",
   "id": "5e35bdca-56e2-4390-8d6d-cb08e550d4d6",
   "metadata": {},
   "source": [
    "# Diccionarios"
   ]
  },
  {
   "cell_type": "code",
   "execution_count": 25,
   "id": "4be431ff-8d3a-4b0e-9396-49cb45176bbb",
   "metadata": {},
   "outputs": [],
   "source": [
    "# ejemplo de diccionario\n",
    "mi_diccionario = {\n",
    "    'id': 1,\n",
    "    'nombre': 'Juan',\n",
    "    'edad': 30,\n",
    "    'ciudad': 'Buenos Aires'\n",
    "}"
   ]
  },
  {
   "cell_type": "markdown",
   "id": "fac27d98-1e67-4477-946f-b3890081e990",
   "metadata": {},
   "source": [
    "#### Get()"
   ]
  },
  {
   "cell_type": "code",
   "execution_count": 18,
   "id": "2e5877bb-d014-4188-8718-d010ffc705b7",
   "metadata": {},
   "outputs": [
    {
     "name": "stdout",
     "output_type": "stream",
     "text": [
      "Nombre Juan\n"
     ]
    }
   ],
   "source": [
    "nombre = mi_diccionario.get(\"nombre\")\n",
    "print(\"Nombre\", nombre)"
   ]
  },
  {
   "cell_type": "markdown",
   "id": "7c8341f4-e282-4b58-a412-88d998cd5a36",
   "metadata": {},
   "source": [
    "#### Keys()"
   ]
  },
  {
   "cell_type": "code",
   "execution_count": 20,
   "id": "46bffc32-bdf7-4c7e-8c33-9f68c93c8322",
   "metadata": {},
   "outputs": [
    {
     "name": "stdout",
     "output_type": "stream",
     "text": [
      "Keys: dict_keys(['id', 'nombre', 'edad', 'ciudad'])\n"
     ]
    }
   ],
   "source": [
    "clave = mi_diccionario.keys()\n",
    "print(\"Keys:\", clave)"
   ]
  },
  {
   "cell_type": "markdown",
   "id": "675e1f8e-3aae-4be9-8813-80d95588452b",
   "metadata": {},
   "source": [
    "#### Values()"
   ]
  },
  {
   "cell_type": "code",
   "execution_count": 21,
   "id": "ef4cb0cd-d142-4f0f-847b-c8796633e573",
   "metadata": {},
   "outputs": [
    {
     "name": "stdout",
     "output_type": "stream",
     "text": [
      "Values: dict_values([1, 'Juan', 30, 'Buenos Aires'])\n"
     ]
    }
   ],
   "source": [
    "valor = mi_diccionario.values()\n",
    "print(\"Values:\", valor)"
   ]
  },
  {
   "cell_type": "markdown",
   "id": "e8a70886-0a61-4541-9218-3ff7e197bad5",
   "metadata": {},
   "source": [
    "#### Items()"
   ]
  },
  {
   "cell_type": "code",
   "execution_count": 22,
   "id": "b0f330d0-a844-4efd-a14e-b646011d5940",
   "metadata": {},
   "outputs": [
    {
     "name": "stdout",
     "output_type": "stream",
     "text": [
      "Items: dict_items([('id', 1), ('nombre', 'Juan'), ('edad', 30), ('ciudad', 'Buenos Aires')])\n"
     ]
    }
   ],
   "source": [
    "item = mi_diccionario.items()\n",
    "print(\"Items:\", item)"
   ]
  },
  {
   "cell_type": "markdown",
   "id": "aa93fbc1-6af6-4665-bdbb-27c0f87c404a",
   "metadata": {},
   "source": [
    "#### Pop()"
   ]
  },
  {
   "cell_type": "code",
   "execution_count": 26,
   "id": "40923ff0-86ef-47f6-9d42-1327db3c4f76",
   "metadata": {},
   "outputs": [
    {
     "name": "stdout",
     "output_type": "stream",
     "text": [
      "Ciudad: Buenos Aires\n",
      "Diccionario despues de pop: {'id': 1, 'nombre': 'Juan', 'edad': 30}\n"
     ]
    }
   ],
   "source": [
    "ciudad =mi_diccionario.pop(\"ciudad\")\n",
    "print(\"Ciudad:\", ciudad)\n",
    "print(\"Diccionario despues de pop:\", mi_diccionario)"
   ]
  },
  {
   "cell_type": "code",
   "execution_count": null,
   "id": "ae19f392-1437-4949-9e8e-fb88899255e8",
   "metadata": {},
   "outputs": [],
   "source": []
  }
 ],
 "metadata": {
  "kernelspec": {
   "display_name": "Python 3 (ipykernel)",
   "language": "python",
   "name": "python3"
  },
  "language_info": {
   "codemirror_mode": {
    "name": "ipython",
    "version": 3
   },
   "file_extension": ".py",
   "mimetype": "text/x-python",
   "name": "python",
   "nbconvert_exporter": "python",
   "pygments_lexer": "ipython3",
   "version": "3.11.7"
  }
 },
 "nbformat": 4,
 "nbformat_minor": 5
}
