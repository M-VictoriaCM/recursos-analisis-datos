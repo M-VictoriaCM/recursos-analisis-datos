{
 "cells": [
  {
   "cell_type": "markdown",
   "id": "d315c9b7-a9f8-4aa6-854d-46e9d61a6811",
   "metadata": {},
   "source": [
    "# Clase 10"
   ]
  },
  {
   "cell_type": "markdown",
   "id": "137d99e2-b958-4496-90c4-11e65334440f",
   "metadata": {},
   "source": [
    "## Ejercicio 1.0 "
   ]
  },
  {
   "cell_type": "code",
   "execution_count": 2,
   "id": "92391367-a5b1-47e0-97cf-4653f750ff5d",
   "metadata": {},
   "outputs": [],
   "source": [
    "import numpy as np"
   ]
  },
  {
   "cell_type": "markdown",
   "id": "74929514-24a8-4914-9312-ca10b1928bf4",
   "metadata": {},
   "source": [
    "# Ejercicio 1.1\n",
    "\n",
    "Repaso Arrays"
   ]
  },
  {
   "cell_type": "code",
   "execution_count": 3,
   "id": "e8fbbf01-bdb5-4308-beab-85704a245409",
   "metadata": {},
   "outputs": [
    {
     "name": "stdout",
     "output_type": "stream",
     "text": [
      "[1 2 3 4]\n"
     ]
    }
   ],
   "source": [
    "#Array unidimensional\n",
    "array1 = np.array([1,2,3,4])\n",
    "array2 = np.array([5,6,7,8])\n",
    "\n",
    "print(array1)"
   ]
  },
  {
   "cell_type": "code",
   "execution_count": 4,
   "id": "5b8b0e1b-4058-445b-b2dd-733df37a074d",
   "metadata": {},
   "outputs": [
    {
     "data": {
      "text/plain": [
       "numpy.ndarray"
      ]
     },
     "execution_count": 4,
     "metadata": {},
     "output_type": "execute_result"
    }
   ],
   "source": [
    "type(array1)"
   ]
  },
  {
   "cell_type": "code",
   "execution_count": 5,
   "id": "56254443-85d6-44f1-aa8f-0693c9cb4947",
   "metadata": {},
   "outputs": [
    {
     "name": "stdout",
     "output_type": "stream",
     "text": [
      "[ 6  8 10 12]\n"
     ]
    }
   ],
   "source": [
    "print(array1 + array2)"
   ]
  },
  {
   "cell_type": "code",
   "execution_count": 6,
   "id": "7f012f85-f923-42c3-af3c-5b30abee26fa",
   "metadata": {},
   "outputs": [
    {
     "name": "stdout",
     "output_type": "stream",
     "text": [
      "[5.         3.         2.33333333 2.        ]\n"
     ]
    }
   ],
   "source": [
    "print(array2 / array1)"
   ]
  },
  {
   "cell_type": "code",
   "execution_count": 7,
   "id": "09e5ad7e-5be1-4af4-aee2-5a44c78be75a",
   "metadata": {},
   "outputs": [
    {
     "name": "stdout",
     "output_type": "stream",
     "text": [
      "[[1 2]\n",
      " [3 4]]\n"
     ]
    }
   ],
   "source": [
    "#Podemos crear una matriz 2 x 2\n",
    "matriz1= np.array([\n",
    "    [1, 2],\n",
    "    [3, 4]\n",
    "])\n",
    "\n",
    "print(matriz1)"
   ]
  },
  {
   "cell_type": "code",
   "execution_count": 8,
   "id": "61110dfb-b1b8-4ce6-847f-3ed655df6865",
   "metadata": {},
   "outputs": [
    {
     "name": "stdout",
     "output_type": "stream",
     "text": [
      "[[1 2 3 4]\n",
      " [5 6 7 8]]\n"
     ]
    }
   ],
   "source": [
    "#Podemos crear una matriz 2 x 4\n",
    "matriz2= np.array([\n",
    "    [1, 2, 3, 4],\n",
    "    [5, 6, 7, 8]\n",
    "])\n",
    "\n",
    "print(matriz2)"
   ]
  },
  {
   "cell_type": "code",
   "execution_count": 9,
   "id": "6e227cad-65a5-4ddf-9698-a360f6528f0d",
   "metadata": {},
   "outputs": [
    {
     "name": "stdout",
     "output_type": "stream",
     "text": [
      "[[1 2 3]\n",
      " [5 6 7]\n",
      " [1 6 8]\n",
      " [0 5 7]]\n"
     ]
    }
   ],
   "source": [
    "#Podemos crear una matriz 4 x 3\n",
    "matriz3= np.array([\n",
    "    [1, 2, 3],\n",
    "    [5, 6, 7],\n",
    "    [1, 6, 8],\n",
    "    [0, 5, 7]\n",
    "])\n",
    "\n",
    "print(matriz3)"
   ]
  },
  {
   "cell_type": "markdown",
   "id": "64558963-fdc8-477f-a693-4ed324332f38",
   "metadata": {},
   "source": [
    "# Ejercicio 1.2\n",
    "\n",
    "operaciones con matrices"
   ]
  },
  {
   "cell_type": "code",
   "execution_count": 11,
   "id": "aa8fd400-c1d7-4927-904b-eb59c5e7561d",
   "metadata": {},
   "outputs": [
    {
     "name": "stdout",
     "output_type": "stream",
     "text": [
      "[[1 2]\n",
      " [3 4]]\n",
      "--------\n",
      "[[5 6]\n",
      " [7 8]]\n"
     ]
    }
   ],
   "source": [
    "matrizA = np.array([\n",
    "    [1, 2],\n",
    "    [3, 4]\n",
    "])\n",
    "\n",
    "matrizB= np.array([\n",
    "    [5, 6],\n",
    "    [7, 8]\n",
    "])\n",
    "\n",
    "print(matrizA)\n",
    "print(\"--------\")\n",
    "print(matrizB)"
   ]
  },
  {
   "cell_type": "code",
   "execution_count": 13,
   "id": "64c34f4b-e3f0-42d7-962d-11fc929714ea",
   "metadata": {},
   "outputs": [
    {
     "name": "stdout",
     "output_type": "stream",
     "text": [
      "[[19 22]\n",
      " [43 50]]\n"
     ]
    }
   ],
   "source": [
    "#producto Matricial\n",
    "\n",
    "matriz_producto = np.matmul(matrizA, matrizB)\n",
    "print(matriz_producto)"
   ]
  },
  {
   "cell_type": "code",
   "execution_count": 19,
   "id": "62513c06-4797-4069-b5eb-247672cd9152",
   "metadata": {},
   "outputs": [
    {
     "name": "stdout",
     "output_type": "stream",
     "text": [
      "Matriz original \n",
      " [[ 1  2  3  4]\n",
      " [ 5  6  7  8]\n",
      " [ 9 10 11 12]\n",
      " [13 14 15 16]]\n",
      "----------------------------------\n",
      "Matriz transpuesta \n",
      " [[ 1  5  9 13]\n",
      " [ 2  6 10 14]\n",
      " [ 3  7 11 15]\n",
      " [ 4  8 12 16]]\n"
     ]
    }
   ],
   "source": [
    "#Matriz transpuesta\n",
    "matriz_originalA= np.array([\n",
    "    [1, 2, 3, 4],\n",
    "    [5, 6, 7, 8],\n",
    "    [9, 10, 11, 12],\n",
    "    [13, 14, 15, 16]                          \n",
    "])\n",
    "\n",
    "print(\"Matriz original \\n\", matriz_originalA)\n",
    "print(\"----------------------------------\")\n",
    "matriz_transpuesta = np.transpose(matriz_originalA)\n",
    "print(\"Matriz transpuesta \\n\",matriz_transpuesta)"
   ]
  },
  {
   "cell_type": "code",
   "execution_count": 20,
   "id": "10fe1e2b-13f8-4738-8aa2-e5cf81c7dde3",
   "metadata": {},
   "outputs": [
    {
     "name": "stdout",
     "output_type": "stream",
     "text": [
      "El determinante es:\n",
      " -2.0000000000000004\n"
     ]
    }
   ],
   "source": [
    "# Calculo del determinante\n",
    "determinanteA = np.linalg.det(matrizA)\n",
    "print(\"El determinante es:\\n\", determinanteA)"
   ]
  },
  {
   "cell_type": "code",
   "execution_count": null,
   "id": "7510347f-4cd9-4b3a-91db-dee249f29351",
   "metadata": {},
   "outputs": [],
   "source": []
  }
 ],
 "metadata": {
  "kernelspec": {
   "display_name": "Python 3 (ipykernel)",
   "language": "python",
   "name": "python3"
  },
  "language_info": {
   "codemirror_mode": {
    "name": "ipython",
    "version": 3
   },
   "file_extension": ".py",
   "mimetype": "text/x-python",
   "name": "python",
   "nbconvert_exporter": "python",
   "pygments_lexer": "ipython3",
   "version": "3.10.13"
  }
 },
 "nbformat": 4,
 "nbformat_minor": 5
}
